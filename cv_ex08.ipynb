{
 "nbformat": 4,
 "nbformat_minor": 0,
 "metadata": {
  "colab": {
   "provenance": [],
   "toc_visible": true
  },
  "kernelspec": {
   "name": "python3",
   "display_name": "Python 3"
  },
  "language_info": {
   "name": "python"
  }
 },
 "cells": [
  {
   "cell_type": "markdown",
   "source": [
    "第8回の演習です。特徴点マッチングを行います。\n",
    "左上の「ファイル」＞「ドライブにコピーを保存」を選択して、Google DriveにNotebookを保存します。ご自身のGoogleドライブの\"Colab Notebooks\"フォルダで、保存したNotebookを右クリックし、「アプリで開く」＞「Google Colaboratory」を選択します。その上で、各コードを実行するには、以下のコマンドを実行してください。実行は「再生」ボタンを押します。"
   ],
   "metadata": {
    "id": "ZEQF3J2fb6RN"
   }
  },
  {
   "cell_type": "code",
   "execution_count": null,
   "metadata": {
    "id": "arnzzHVKbsJ_",
    "colab": {
     "base_uri": "https://localhost:8080/"
    },
    "outputId": "c2e50857-6219-443f-d7b3-66e2c7b39e5d"
   },
   "outputs": [
    {
     "output_type": "stream",
     "name": "stdout",
     "text": [
      "Chapter 8\n"
     ]
    }
   ],
   "source": [
    "print(\"Chapter 8\")"
   ]
  },
  {
   "cell_type": "markdown",
   "source": [
    "# 特徴点マッチング"
   ],
   "metadata": {
    "id": "GhvqtqifB1ne"
   }
  },
  {
   "cell_type": "code",
   "source": "# ローカル環境では直接画像ファイルを指定\nimport os\nimage_filename = \"example.png\"\nprint(\"ファイル名：\", image_filename)\nprint(f\"ファイルが存在するか確認: {os.path.exists(image_filename)}\")",
   "metadata": {
    "colab": {
     "base_uri": "https://localhost:8080/",
     "height": 95
    },
    "id": "l9049Nz4aUKs",
    "outputId": "62e84735-74c4-47ec-9177-abde55b1b343"
   },
   "outputs": []
  },
  {
   "cell_type": "markdown",
   "source": [
    "図を描くには、以下のようにmatplotlibを使うこともできます。"
   ],
   "metadata": {
    "id": "hbKFvdhvXggO"
   }
  },
  {
   "cell_type": "code",
   "source": "# OpenCVを使う準備\nimport cv2\nimport numpy as np\nimport matplotlib.pyplot as plt\n\ndef show_image(img, title=\"Image\", cmap=None):\n    plt.figure(figsize=(8, 6))\n    if len(img.shape) == 3:\n        # カラー画像の場合、BGR→RGB変換\n        plt.imshow(cv2.cvtColor(img, cv2.COLOR_BGR2RGB))\n    else:\n        # グレースケール画像の場合\n        plt.imshow(img, cmap='gray' if cmap is None else cmap)\n    plt.title(title)\n    plt.axis('off')\n    plt.show()\n\nimg = cv2.imread(image_filename)\nshow_image(img, \"Original Image\")",
   "metadata": {
    "colab": {
     "base_uri": "https://localhost:8080/",
     "height": 248
    },
    "id": "Fe-b7N1LaISJ",
    "outputId": "72ae10f4-cd15-4d54-b72d-a1d1b3c35a64"
   },
   "outputs": []
  },
  {
   "cell_type": "markdown",
   "source": [
    "## AKAZEによる特徴点マッチング"
   ],
   "metadata": {
    "id": "uQ717Wn5thD3"
   }
  },
  {
   "cell_type": "code",
   "source": "# AKAZE\n\n# im_left = cv2.imread('Lenna.jpg')\n# im_right = cv2.imread('LennaRotated.jpg')\nim_left = cv2.imread(image_filename)\nim_right = cv2.imread(image_filename)\n\n# ダウンサンプリング\nim_left_lowers = cv2.pyrDown(im_left)\nim_right_lowers = cv2.pyrDown(im_right)\n\n# AKAZE抽出器\ndetector = cv2.AKAZE_create()\n\n# 画像からKeypointとDescriptorを生成\nkp_left, des_left = detector.detectAndCompute(im_left_lowers, None)\nkp_right, des_right = detector.detectAndCompute(im_right_lowers, None)\n\n# 全探索マッチング、上位２つの結果を採用\nbf = cv2.BFMatcher()\nmatches = bf.knnMatch(des_left, des_right, k=2)\n\n# データを間引き\nratio = 0.5\ngood = []\nfor m, n in matches:\n    if m.distance < ratio * n.distance:\n        good.append([m])\n\n# マッチング結果の描画\nim_result = cv2.drawMatchesKnn(im_left_lowers, kp_left, im_right_lowers, kp_right, good, None, flags=2)\n\n# show_image関数を使用して表示\nshow_image(im_result, \"AKAZE Feature Matching Result\")",
   "metadata": {
    "colab": {
     "base_uri": "https://localhost:8080/",
     "height": 230
    },
    "id": "D9ASgdMkZ1ZZ",
    "outputId": "f6d414e8-c982-44a8-8f43-8eb54faa448c"
   },
   "outputs": []
  },
  {
   "cell_type": "markdown",
   "source": [
    "## ORBによる特徴点マッチング"
   ],
   "metadata": {
    "id": "yoM55rc7TieU"
   }
  },
  {
   "cell_type": "code",
   "source": "# ORB\n\nimg1 = cv2.imread(image_filename,cv2.IMREAD_GRAYSCALE)\nimg2 = cv2.imread(image_filename,cv2.IMREAD_GRAYSCALE)\n\n# ORB detector初期化\norb = cv2.ORB_create()\n\n# 特徴検出\nkp1, des1 = orb.detectAndCompute(img1, None)\nkp2, des2 = orb.detectAndCompute(img2, None)\n\n# ハミング距離による総当たりマッチングインスタンスを作成\nbf = cv2.BFMatcher(cv2.NORM_HAMMING, crossCheck=True)\n\n# マッチング実行\nmatches = bf.match(des1,des2)\n\n# ハミング距離でソート\nmatches = sorted(matches, key = lambda x:x.distance)\n\n# ハミング距離が小さい10点を描画\nNOT_DRAW_SINGLE_POINTS = 2\nimg3 = cv2.drawMatches(img1,kp1,img2,kp2,matches[:10], None, flags=NOT_DRAW_SINGLE_POINTS)\n\n# cv2.imwrite('bf_im3.jpg', img3)\n\n# show_image関数を使用して表示\nshow_image(img3, \"ORB Feature Matching Result\")",
   "metadata": {
    "colab": {
     "base_uri": "https://localhost:8080/",
     "height": 230
    },
    "id": "YMs5Pq8DTm0y",
    "outputId": "41e279eb-698b-4ad2-95b0-0ab65fcdf1a5"
   },
   "outputs": []
  },
  {
   "cell_type": "markdown",
   "source": [
    "# イメージモザイキング\n",
    "パノラマ画像を作ります。左側のカメラ画像（[pano_left.jpg](https://drive.google.com/file/d/1HioEPRPur3Gi5ZqJ6Pkan_v-ScTSZ8Iv/view?usp=sharing)）と右側のカメラ画像（[pano_right.jpg](https://drive.google.com/file/d/1eMAZFuwlvcznHBxyVzgxgpOfBNx62EYR/view?usp=sharing)）をダウンロードして下さい。その上で以下を実行し、これらのファイルをアップロードします。もちろん、これらのカメラ画像としてご自身で撮影した写真を使っても構いません。"
   ],
   "metadata": {
    "id": "of08UvPwtlTW"
   }
  },
  {
   "cell_type": "code",
   "source": "# ローカル環境では直接画像ファイルを指定\nimage_filename1 = \"example.png\"\nimage_filename2 = \"example.png\"\nprint(\"ファイル名：\", image_filename1, image_filename2)",
   "metadata": {
    "colab": {
     "base_uri": "https://localhost:8080/",
     "height": 156
    },
    "id": "osFq-Xrixb5p",
    "outputId": "eeaf85da-a28c-4b78-96e6-c5a91fbb282c"
   },
   "outputs": []
  },
  {
   "cell_type": "code",
   "source": "import cv2\nimport numpy as np\nfrom matplotlib import pyplot as plt\nimg1 = cv2.imread(image_filename1)\nimg2 = cv2.imread(image_filename2)\n\n# show_image関数を使用して個別に表示\nshow_image(img1, \"Left Image for Panorama\")\nshow_image(img2, \"Right Image for Panorama\")",
   "metadata": {
    "colab": {
     "base_uri": "https://localhost:8080/",
     "height": 145
    },
    "id": "nR2aLt4rD5Z3",
    "outputId": "9d0db8bd-2e68-46f6-cc12-4b4cb426a2e9"
   },
   "outputs": []
  },
  {
   "cell_type": "markdown",
   "source": [
    "イメージモザイキングの処理を行って、2枚のカメラ画像をつなぎます。結果、1枚のパノラマ画像ができます。OpenCVにはstitcher関数が用意されており、イメージモザイキングを行うことができます。複数の画像の間の幾何学的変換と色補正を自動的に処理し、パノラマ画像を構成します。"
   ],
   "metadata": {
    "id": "rhaooPJscJaK"
   }
  },
  {
   "cell_type": "code",
   "source": "# Stitcher\nimages = []\nimages.append(img1)\nimages.append(img2)\n\nstitcher = cv2.Stitcher_create(cv2.Stitcher_PANORAMA)\n(status, stitched) = stitcher.stitch(images)\n\nif status != cv2.Stitcher_OK:\n    print(\"Can't stitch images, error code = %d\" % status)\n\n# show_image関数を使用して表示\nshow_image(stitched, \"Panorama Stitched Image\")",
   "metadata": {
    "id": "BsQX0MsxcF0L",
    "colab": {
     "base_uri": "https://localhost:8080/",
     "height": 325
    },
    "outputId": "8f99e006-ec2e-4b01-e959-1bd981378fee"
   },
   "outputs": []
  }
 ]
}