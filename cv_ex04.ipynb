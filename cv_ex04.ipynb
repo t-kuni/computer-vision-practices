{
  "nbformat": 4,
  "nbformat_minor": 0,
  "metadata": {
    "colab": {
      "provenance": [],
      "toc_visible": true
    },
    "kernelspec": {
      "name": "python3",
      "display_name": "Python 3"
    },
    "language_info": {
      "name": "python"
    }
  },
  "cells": [
    {
      "cell_type": "markdown",
      "source": [
        "第4回の演習です。ここでは、今後使うであろう数学を少し説明しておきます。\n",
        "左上の「ファイル」＞「ドライブにコピーを保存」を選択して、Google DriveにNotebookを保存します。ご自身のGoogleドライブの\"Colab Notebooks\"フォルダで、保存したNotebookを右クリックし、「アプリで開く」＞「Google Colaboratory」を選択します。その上で、各コードを実行するには、以下のコマンドを実行してください。実行は「再生」ボタンを押します。"
      ],
      "metadata": {
        "id": "ZEQF3J2fb6RN"
      }
    },
    {
      "cell_type": "code",
      "execution_count": null,
      "metadata": {
        "id": "arnzzHVKbsJ_",
        "colab": {
          "base_uri": "https://localhost:8080/"
        },
        "outputId": "14ec93b0-0a13-4e9d-f955-483b8d6eb7e3"
      },
      "outputs": [
        {
          "output_type": "stream",
          "name": "stdout",
          "text": [
            "Chapter 4\n"
          ]
        }
      ],
      "source": [
        "print(\"Chapter 4\")"
      ]
    },
    {
      "cell_type": "markdown",
      "source": [
        "# 数学\n",
        "コンピュータビジョンではベクトルや行列を基にした演算を頻繁に行います。そこで、ベクトルや行列の演算、線形代数、微分といった数学について簡潔に説明します。ここでも中心的に使うライブラリはNumPyとmatplotlibです。NumPyとmatplotlibをインポートしておきます。"
      ],
      "metadata": {
        "id": "1Lj2VR6ZoNuL"
      }
    },
    {
      "cell_type": "code",
      "source": [
        "import numpy as np\n",
        "import matplotlib.pyplot as plt"
      ],
      "metadata": {
        "id": "MLPaQedsITGp"
      },
      "execution_count": null,
      "outputs": []
    },
    {
      "cell_type": "markdown",
      "source": [
        "## ベクトルの内積\n",
        "ベクトルの内積はベクトルどうしの掛け算の一種です。以下のように、ベクトルの要素どうしをそれぞれかけて和を取ります。\n",
        "$$\\vec{a}=(a_1, a_2, \\cdots, a_n)$$\n",
        "$$\\vec{b}=(b_1, b_2, \\cdots, b_n)$$\n",
        "$$\\vec{a} \\cdot \\vec{b} = (a_1, a_2, \\cdots, a_n) \\cdot (b_1, b_2, \\cdots, b_n)$$\n",
        "$$ = (a_1 b_1 + a_2 b_2 + \\cdots + a_n b_n)$$"
      ],
      "metadata": {
        "id": "mz0qE98OI1-s"
      }
    },
    {
      "cell_type": "markdown",
      "source": [
        "注意点は、内積を取るベクトルどうしの要素数が等しくなくてはいけないことです。Numpyのdot関数を使って内積を求めます。同じことは、ベクトルの各要素の積をsum関数で和を取ることでも可能です。"
      ],
      "metadata": {
        "id": "KdTHwT1muSHB"
      }
    },
    {
      "cell_type": "code",
      "source": [
        "# ベクトルの内積\n",
        "x = np.array([1, 2, 3])\n",
        "y = np.array([4, 5, 6])\n",
        "print(\"dot関数：\", np.dot(x, y))            # dot関数\n",
        "print(\"sum関数：\", np.sum(x * y))           # sum関数"
      ],
      "metadata": {
        "colab": {
          "base_uri": "https://localhost:8080/"
        },
        "id": "4G7T9XSkuXoZ",
        "outputId": "fe170930-c689-42af-f66d-b6cd705d0aea"
      },
      "execution_count": null,
      "outputs": [
        {
          "output_type": "stream",
          "name": "stdout",
          "text": [
            "dot関数： 32\n",
            "sum関数： 32\n"
          ]
        }
      ]
    },
    {
      "cell_type": "markdown",
      "source": [
        "## ノルム\n",
        "ノルムはベクトルの大きさを表します。ノルムには幾つかの種類があります。ここでは、L1ノルムとL2ノルムについて説明します。L1ノルムは、ベクトルの要素の絶対値をそれぞれ足し合わせたものです。\n",
        "$$\\| \\vec{x} \\|_1 = |x_1| + |x_2| + \\cdots + |x_n|$$\n",
        "L2ノルムは、ベクトルの要素をそれぞれ二乗して和を取り、平方根を取ります。\n",
        "$$\\| \\vec{x}\\|_2 = \\sqrt{x^2_1 + x^2_2 + \\cdots + x^2_n} $$\n",
        "\n",
        "ノルムを求めるにはNumPyのlinalgモジュールのnorm関数を使います。norm関数の引数には（入力データ, ノルムの次数）を指定します。入力データには一次元もしくは二次元の配列を入れます。"
      ],
      "metadata": {
        "id": "0iRClZoqxb7h"
      }
    },
    {
      "cell_type": "code",
      "source": [
        "# ノルム\n",
        "x = np.array([1, 1, -1, -1, 1, 1, -1, -1])\n",
        "print(\"L1ノルム：\", np.linalg.norm(x, 1))           # L1ノルム\n",
        "print(\"L2ノルム：\", np.linalg.norm(x, 2))           # L2ノルム"
      ],
      "metadata": {
        "colab": {
          "base_uri": "https://localhost:8080/"
        },
        "id": "tZJMlvBuO5-S",
        "outputId": "b336ce0a-f355-4a8e-d50a-63d2028cdbb2"
      },
      "execution_count": null,
      "outputs": [
        {
          "output_type": "stream",
          "name": "stdout",
          "text": [
            "L1ノルム： 8.0\n",
            "L2ノルム： 2.8284271247461903\n"
          ]
        }
      ]
    },
    {
      "cell_type": "markdown",
      "source": [
        "## 行列積\n",
        "「行列積」は行列どうしを掛け合わせます。その掛け合わせ方は、左側の行列の行の要素を、右側の行列の列の要素とそれぞれ掛け合わせ、足します。これを、新しい行列の要素にします。例えば、以下のような行列*A*と行列*B*があった場合、*A*の各行と*B*の各列の要素をそれぞれ掛け合わせて和を取り、行列*C*の各要素に置きます。\n",
        "$$A =\n",
        "\\begin{pmatrix}\n",
        "a & b & c \\\\\n",
        "d & e & f \\\\\n",
        "\\end{pmatrix}\n",
        "$$\n",
        "$$B =\n",
        "\\begin{pmatrix}\n",
        "g & h \\\\\n",
        "i & j \\\\\n",
        "k & l \\\\\n",
        "\\end{pmatrix}\n",
        "$$\n",
        "$$C =\n",
        "\\begin{pmatrix}\n",
        "a g + b i + c k & a h + b j + c l \\\\\n",
        "d g + e i + f k & d h + e j + f l \\\\\n",
        "\\end{pmatrix}$$\n",
        "注意点は、行列の左右を入れ替えることは基本的にはできません（満たすべき条件がある）。"
      ],
      "metadata": {
        "id": "bxyKov3-rT21"
      }
    },
    {
      "cell_type": "code",
      "source": [
        "# 行列積\n",
        "x = np.array([[1, 2, 3],\n",
        "              [4, 5, 6]])\n",
        "y = np.array([[2, 1],\n",
        "              [2, 1],\n",
        "              [2, 1]])\n",
        "print(np.dot(x, y))"
      ],
      "metadata": {
        "colab": {
          "base_uri": "https://localhost:8080/"
        },
        "id": "Bk2PoYXfwUQN",
        "outputId": "06d36505-9a04-4dcf-8f43-5a3f0dccfad0"
      },
      "execution_count": null,
      "outputs": [
        {
          "output_type": "stream",
          "name": "stdout",
          "text": [
            "[[12  6]\n",
            " [30 15]]\n"
          ]
        }
      ]
    },
    {
      "cell_type": "markdown",
      "source": [
        "## 転置\n",
        "転置はすでにtranposeメソッドのところで出てきたので、復習になります。転置は、行列の行と列を入れ替える操作です。例えば、以下の行列*A*の転置を取ると、*A*<sup>T</sup>のようになります。\n",
        "$$A =\n",
        "\\begin{pmatrix}\n",
        "a & b & c \\\\\n",
        "d & e & f \\\\\n",
        "\\end{pmatrix}\n",
        "$$\n",
        "$$A^\\rm{T} =\n",
        "\\begin{pmatrix}\n",
        "a & d \\\\\n",
        "b & e \\\\\n",
        "c & f \\\\\n",
        "\\end{pmatrix}\n",
        "$$"
      ],
      "metadata": {
        "id": "So0tzLMfxdmP"
      }
    },
    {
      "cell_type": "code",
      "source": [
        "# 転置\n",
        "x = np.array([[1, 2, 3],\n",
        "              [4, 5, 6]])\n",
        "print(x.T)            # 転置"
      ],
      "metadata": {
        "colab": {
          "base_uri": "https://localhost:8080/"
        },
        "id": "7zGFxV6w4gIj",
        "outputId": "6d0f020a-0f9b-4099-b9ff-37cd1bab667e"
      },
      "execution_count": null,
      "outputs": [
        {
          "output_type": "stream",
          "name": "stdout",
          "text": [
            "[[1 4]\n",
            " [2 5]\n",
            " [3 6]]\n"
          ]
        }
      ]
    },
    {
      "cell_type": "markdown",
      "source": [
        "行列積では、左の行列の列数と、右の行列の行数が一致する必要があります。行と列の数が異なる行列の場合、転置によって行列積を可能にすることがあります。"
      ],
      "metadata": {
        "id": "agF53LlK5QoI"
      }
    },
    {
      "cell_type": "code",
      "source": [
        "# 転置と行列積\n",
        "x = np.array([[1, 2, 3],\n",
        "              [4, 5, 6]])           # 2×3の行列\n",
        "# print(np.dot(x, x))               # 転置しないとエラー\n",
        "print(np.dot(x, x.T))"
      ],
      "metadata": {
        "colab": {
          "base_uri": "https://localhost:8080/"
        },
        "id": "X6PNa3IU55zv",
        "outputId": "776fb21f-d8eb-46cc-8668-9ab0b13fe9c4"
      },
      "execution_count": null,
      "outputs": [
        {
          "output_type": "stream",
          "name": "stdout",
          "text": [
            "[[14 32]\n",
            " [32 77]]\n"
          ]
        }
      ]
    },
    {
      "cell_type": "markdown",
      "source": [
        "## 単位行列\n",
        "単位行列とは、行列の対角要素がすべて1で、その他の要素はすべて0であるものです。単位行列を生成するにははeye関数を使います。その引数に単位行列のサイズを指定します。"
      ],
      "metadata": {
        "id": "vA7u7fdSIPeu"
      }
    },
    {
      "cell_type": "code",
      "source": [
        "# 単位行列\n",
        "print(\"2×2の単位行列\")\n",
        "print(np.eye(2))\n",
        "print(\"3×3の単位行列\")\n",
        "print(np.eye(3))"
      ],
      "metadata": {
        "colab": {
          "base_uri": "https://localhost:8080/"
        },
        "id": "dJalt-dPKJ8l",
        "outputId": "03da7b5e-28d6-4791-ae9d-ea52a4870e1a"
      },
      "execution_count": null,
      "outputs": [
        {
          "output_type": "stream",
          "name": "stdout",
          "text": [
            "2×2の単位行列\n",
            "[[1. 0.]\n",
            " [0. 1.]]\n",
            "3×3の単位行列\n",
            "[[1. 0. 0.]\n",
            " [0. 1. 0.]\n",
            " [0. 0. 1.]]\n"
          ]
        }
      ]
    },
    {
      "cell_type": "markdown",
      "source": [
        "## 逆行列\n",
        "逆行列は、正方行列にその逆行列をかけると単位行列になります。行列*A*の逆行列を*A*<sup>-1</sup>のように表すと、以下のような関係が成り立ちます。\n",
        "$$A^{-1} A = A A^{-1} = E$$\n",
        "ここで、*E*は単位行列を表します。例えば、以下の例では行列*x*と*y*はお互いに逆行列の関係にあります。"
      ],
      "metadata": {
        "id": "6YoKleNHKkEt"
      }
    },
    {
      "cell_type": "code",
      "source": [
        "# 逆行列\n",
        "x = np.array([[2, 1],\n",
        "              [1, 1]])\n",
        "y = np.array([[1, -1],\n",
        "              [-1, 2]])\n",
        "print(x)\n",
        "print(y)\n",
        "print(np.dot(x, y))           # 単位行列"
      ],
      "metadata": {
        "colab": {
          "base_uri": "https://localhost:8080/"
        },
        "id": "ZNp6_Y9MNiBl",
        "outputId": "1ee39696-3fac-43ac-aaf2-21f8db7df719"
      },
      "execution_count": null,
      "outputs": [
        {
          "output_type": "stream",
          "name": "stdout",
          "text": [
            "[[2 1]\n",
            " [1 1]]\n",
            "[[ 1 -1]\n",
            " [-1  2]]\n",
            "[[1 0]\n",
            " [0 1]]\n"
          ]
        }
      ]
    },
    {
      "cell_type": "markdown",
      "source": [
        "逆行列を求めるにはlinalgモジュールのinv関数を使います。"
      ],
      "metadata": {
        "id": "Zb0Oy5iLVkmk"
      }
    },
    {
      "cell_type": "code",
      "source": [
        "# 逆行列\n",
        "x = np.array([[2, 1],\n",
        "              [1, 1]])\n",
        "print(np.linalg.inv(x))           # 逆行列"
      ],
      "metadata": {
        "colab": {
          "base_uri": "https://localhost:8080/"
        },
        "id": "SfG9z4cRV13p",
        "outputId": "892b0336-7b75-4737-b1ce-61e29cef4e32"
      },
      "execution_count": null,
      "outputs": [
        {
          "output_type": "stream",
          "name": "stdout",
          "text": [
            "[[ 1. -1.]\n",
            " [-1.  2.]]\n"
          ]
        }
      ]
    },
    {
      "cell_type": "markdown",
      "source": [
        "## 行列式\n",
        "行列式は、以下のような2×2の正方行列*A*の場合、det *A*のように表されます。\n",
        "$$A =\n",
        "\\begin{pmatrix}\n",
        "a & b \\\\\n",
        "c & d \\\\\n",
        "\\end{pmatrix}\n",
        "$$\n",
        "$$\n",
        "\\det A = a d - b c\n",
        "$$\n",
        "行列式は行列の特徴を表す指標の1で、スカラー量です。逆行列が存在するかどうかに使われます。行列式が0であるなら、逆行列は存在しません。行列式を求めるにはlinalgモジュールのdet関数を使います。"
      ],
      "metadata": {
        "id": "VbWCCEkrO3G0"
      }
    },
    {
      "cell_type": "code",
      "source": [
        "# 逆行列\n",
        "x = np.array([[2, 3],           # 2×2の正方行列\n",
        "              [4, 5]])\n",
        "print(np.linalg.det(x))         # 行列式が0にならない\n",
        "y = np.array([[0, 2],           # 2×2の正方行列\n",
        "              [0, 1]])\n",
        "print(np.linalg.det(y))         # 行列式が0になる"
      ],
      "metadata": {
        "colab": {
          "base_uri": "https://localhost:8080/"
        },
        "id": "kGWfhTm-TtT2",
        "outputId": "6faa0b51-e903-49ad-c8bd-997373e504d8"
      },
      "execution_count": null,
      "outputs": [
        {
          "output_type": "stream",
          "name": "stdout",
          "text": [
            "-2.0\n",
            "0.0\n"
          ]
        }
      ]
    },
    {
      "cell_type": "markdown",
      "source": [
        "# 線形変換\n",
        "線形変換は、ベクトルをベクトルに変換します。"
      ],
      "metadata": {
        "id": "OrL0BLNHVFxp"
      }
    },
    {
      "cell_type": "markdown",
      "source": [
        "## ベクトルの描画\n",
        "ベクトルは大きさと方向を持った量と一般には定義されます。そこで、以下のような縦ベクトルを矢印で描画してみましょう。\n",
        "$$\\vec{a} =\n",
        "\\begin{pmatrix}\n",
        "3 \\\\\n",
        "2 \\\\\n",
        "\\end{pmatrix}\n",
        "$$\n",
        "矢印の描画にはmatplotlibライブラリのpyplotモジュールのquiver関数が使えます。quiver関数は、以下のような引数を取ります。\n",
        "- 始点のx座標\n",
        "- 始点のy座標\n",
        "- 矢印のx成分\n",
        "- 矢印のy成分\n",
        "- 矢印の角度の指定方法\n",
        "- スケールの単位\n",
        "- スケール\n",
        "- 矢印の色\n"
      ],
      "metadata": {
        "id": "5FKQRfjLYWKg"
      }
    },
    {
      "cell_type": "markdown",
      "source": [
        "matplotlibライブラリで描画するとき、figure関数を使ってfigureインスタンスを作成し、描画全体の領域を確保してから描画処理を行うようにします。このとき、add_subplotメソッドを使ってグラフの描画領域を追加します。これは、1つの描画領域を複数に分割し、それぞれの領域に対して別のグラフを描画できるようにするためです。ただ、ここではグラフは1つしか描きません。figureで描画するための台紙を作り、add_subplotでグラフ本体の枠を作るといった感じでしょうか。"
      ],
      "metadata": {
        "id": "bvr6LPgWi1ZF"
      }
    },
    {
      "cell_type": "code",
      "source": [
        "# ベクトルの描画\n",
        "s = np.array([0, 0])            # 始点（原点）\n",
        "t = np.array([3, 2])            # 成分\n",
        "\n",
        "fig = plt.figure()              # 描画領域を確保\n",
        "ax = fig.add_subplot(111)       # 1行1列の1番目\n",
        "\n",
        "ax.quiver(s[0], s[1], t[0], t[1],\n",
        "           angles = \"xy\", scale_units = \"xy\", scale = 1, color = \"blue\")\n",
        "\n",
        "ax.set_xlim([-3, 3])            # x軸の範囲\n",
        "ax.set_ylim([-3, 3])            # y軸の範囲\n",
        "ax.set_xlabel(\"x-axis\")\n",
        "ax.set_ylabel(\"y-axis\")\n",
        "ax.grid()\n",
        "ax.set_aspect(\"equal\")          # グラフの軸の長さを等しくする\n",
        "\n",
        "plt.show()"
      ],
      "metadata": {
        "colab": {
          "base_uri": "https://localhost:8080/",
          "height": 283
        },
        "id": "lIsP5LAGizEt",
        "outputId": "afaf40ee-0372-4da0-e4e6-74e7b7b1920d"
      },
      "execution_count": null,
      "outputs": [
        {
          "output_type": "display_data",
          "data": {
            "text/plain": [
              "<Figure size 432x288 with 1 Axes>"
            ],
            "image/png": "[encoded data removed]"
          },
          "metadata": {
            "needs_background": "light"
          }
        }
      ]
    },
    {
      "cell_type": "markdown",
      "source": [
        "## 線形変換\n",
        "以下のような行列*A*があったとします。\n",
        "$$\n",
        "A =\n",
        "\\begin{pmatrix}\n",
        "2 & -2 \\\\\n",
        "1 & -2 \\\\\n",
        "\\end{pmatrix}\n",
        "$$\n",
        "この行列*A*を縦ベクトルにかけると、この縦ベクトルを別の縦ベクトルへと変換できます。\n",
        "$$\n",
        "\\vec{b} = A \\vec{a} =\n",
        "\\begin{pmatrix}\n",
        "2 & -2 \\\\\n",
        "1 & -2 \\\\\n",
        "\\end{pmatrix}\n",
        "\\begin{pmatrix}\n",
        "3 \\\\\n",
        "2 \\\\\n",
        "\\end{pmatrix}\n",
        "=\n",
        "\\begin{pmatrix}\n",
        "2 \\\\\n",
        "-1 \\\\\n",
        "\\end{pmatrix}\n",
        "$$\n",
        "このような変換が線形変換です。"
      ],
      "metadata": {
        "id": "IFWyJ9BXhpmG"
      }
    },
    {
      "cell_type": "code",
      "source": [
        "# ベクトルの線形変換\n",
        "x = np.array([3, 2])            # 変換前のベクトル\n",
        "a = np.array([[2, -2],\n",
        "              [1, -2]])         # 行列\n",
        "y = np.dot(a, x)                # 線形変換（変数を記述する順番に注意）\n",
        "\n",
        "print(\"変換前：\", x, \"変換後\", y)\n",
        "\n",
        "s = np.array([0, 0])            # 始点（原点）\n",
        "\n",
        "fig = plt.figure()              # 描画領域を確保\n",
        "ax = fig.add_subplot(111)       # 1行1列の1番目\n",
        "\n",
        "ax.quiver(s[0], s[1], x[0], x[1],           # 変換前のベクトル\n",
        "           angles = \"xy\", scale_units = \"xy\", scale = 1, color = \"blue\")\n",
        "ax.quiver(s[0], s[1], y[0], y[1],           # 変換後のベクトル\n",
        "           angles = \"xy\", scale_units = \"xy\", scale = 1, color = \"red\")\n",
        "\n",
        "ax.set_xlim([-3, 3])            # x軸の範囲\n",
        "ax.set_ylim([-3, 3])            # y軸の範囲\n",
        "ax.set_xlabel(\"x-axis\")\n",
        "ax.set_ylabel(\"y-axis\")\n",
        "ax.grid()\n",
        "ax.set_aspect(\"equal\")          # グラフの軸の長さを等しくする\n",
        "\n",
        "plt.show()"
      ],
      "metadata": {
        "colab": {
          "base_uri": "https://localhost:8080/",
          "height": 300
        },
        "id": "hOkeNIdybfWI",
        "outputId": "8f48887f-727a-4de8-a82a-db28cefcd4cb"
      },
      "execution_count": null,
      "outputs": [
        {
          "output_type": "stream",
          "name": "stdout",
          "text": [
            "変換前： [3 2] 変換後 [ 2 -1]\n"
          ]
        },
        {
          "output_type": "display_data",
          "data": {
            "text/plain": [
              "<Figure size 432x288 with 1 Axes>"
            ],
            "image/png": "[encoded data removed]"
          },
          "metadata": {
            "needs_background": "light"
          }
        }
      ]
    },
    {
      "cell_type": "markdown",
      "source": [
        "## 固有値と固有ベクトル\n",
        "正方行列*A*において、以下の式を満たすスカラー$\\lambda$を行列*A*の固有値、ベクトルを$\\vec{x}$を行列*A*の固有ベクトルといいます。\n",
        "$$\n",
        "A \\vec{x} = \\lambda \\vec{x}\n",
        "$$\n",
        "この式は、固有ベクトルに線形変換を施すと、固有ベクトルの各要素が固有値倍になることを意味しています。上記の式の右辺を左辺に移項しますと、以下の式を得ます。\n",
        "$$\n",
        "(A - \\lambda E) \\vec{x} = \\vec{0}\n",
        "$$\n",
        "行列$(A - \\lambda E)$が逆行列を持たなければ、以下の行列式は0になります。\n",
        "$$\n",
        "\\det (A - \\lambda E) = 0\n",
        "$$"
      ],
      "metadata": {
        "id": "TDCGC5FC7Kkv"
      }
    },
    {
      "cell_type": "markdown",
      "source": [
        "固有値と固有ベクトルは、linalgモジュールのeig関数によって求めることができます。eig関数の出力は2つの配列になっており、1つ目の配列が固有値で、2つ目の配列が固有ベクトルです。eig関数は、固有ベクトルを単位ベクトル（大きさが1）の形で返します。"
      ],
      "metadata": {
        "id": "Wp7R55qoV0TW"
      }
    },
    {
      "cell_type": "code",
      "source": [
        "# 固有値と固有ベクトル\n",
        "x = np.array([[3, -1],\n",
        "              [5, -3]])\n",
        "ev = np.linalg.eig(x)           # 固有値と固有ベクトルを導出\n",
        "print(\"固有値\")\n",
        "print(ev[0])                    # 1つ目の要素は固有値\n",
        "print(\"固有ベクトル\")\n",
        "print(ev[1])                    # 2つ目の要素は固有ベクトル"
      ],
      "metadata": {
        "colab": {
          "base_uri": "https://localhost:8080/"
        },
        "id": "YgLlHa9IWiZV",
        "outputId": "40616860-dcd5-470f-c43c-650ea0e18f63"
      },
      "execution_count": null,
      "outputs": [
        {
          "output_type": "stream",
          "name": "stdout",
          "text": [
            "固有値\n",
            "[ 2. -2.]\n",
            "固有ベクトル\n",
            "[[0.70710678 0.19611614]\n",
            " [0.70710678 0.98058068]]\n"
          ]
        }
      ]
    },
    {
      "cell_type": "markdown",
      "source": [
        "# 微分\n",
        "微分は、関数の接線の傾き（勾配：変化の割合）を表します。以下の関数\n",
        "$$\n",
        "f(x) = 5 x^2 + 4 x - 3\n",
        "$$\n",
        "における点（$x = 1$）での接線を描画します。"
      ],
      "metadata": {
        "id": "vbg2vrIUZKrV"
      }
    },
    {
      "cell_type": "code",
      "source": [
        "# 接線の描画\n",
        "def my_func(x):           # 二次式\n",
        "    return 5 * x**2 + 4 * x - 3\n",
        "\n",
        "def my_dif(x):            # 導関数\n",
        "    return 10 * x + 4\n",
        "\n",
        "x = np.linspace(-3, 3)\n",
        "y = my_func(x)\n",
        "\n",
        "x1 = 1\n",
        "y1 = my_dif(x1)*x + my_func(x1) - my_dif(x1)*x1     # x=1のときの接線\n",
        "\n",
        "plt.plot(x, y, label=\"y\")\n",
        "plt.plot(x, y1, label=\"y1\")\n",
        "plt.legend()\n",
        "plt.xlabel(\"x-axis\")\n",
        "plt.ylabel(\"y-axis\")\n",
        "plt.grid()\n",
        "plt.show()"
      ],
      "metadata": {
        "colab": {
          "base_uri": "https://localhost:8080/",
          "height": 279
        },
        "id": "l7e47IbvhMpS",
        "outputId": "cbf1429d-46d8-4d68-daaa-9117841566d7"
      },
      "execution_count": null,
      "outputs": [
        {
          "output_type": "display_data",
          "data": {
            "text/plain": [
              "<Figure size 432x288 with 1 Axes>"
            ],
            "image/png": "[encoded data removed]"
          },
          "metadata": {
            "needs_background": "light"
          }
        }
      ]
    }
  ]
}